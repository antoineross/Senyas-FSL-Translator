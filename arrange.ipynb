{
 "cells": [
  {
   "attachments": {},
   "cell_type": "markdown",
   "metadata": {},
   "source": [
    "This notebook is meant for arranging the videos under the \"videos\" folder so that the video names are coherent with the program under video_training.ipynb. \n",
    "\n",
    "This notebook also has auxilliary programs that are used to create and modify the training data for the neural network."
   ]
  },
  {
   "attachments": {},
   "cell_type": "markdown",
   "metadata": {},
   "source": [
    "1. Arrange Videos. Arranges the videos in the signed_videos folder into a format that can be used by the model from 1.mp4-n.mp4, where n is the number of videos in the folder.\n"
   ]
  },
  {
   "cell_type": "code",
   "execution_count": null,
   "metadata": {},
   "outputs": [],
   "source": [
    "import os \n",
    "input_dir = os.path.join('videos', 'signed_videos')\n",
    "\n",
    "# Loop through subdirectories\n",
    "for subdir in os.listdir(input_dir):\n",
    "    subdir_path = os.path.join(input_dir, subdir)\n",
    "    if os.path.isdir(subdir_path):\n",
    "        # Get list of mp4 files\n",
    "        mp4_files = [f for f in os.listdir(subdir_path) if f.endswith('.mp4')]\n",
    "        # Sort files by name \n",
    "        mp4_files.sort()\n",
    "        # Rename files\n",
    "        for i, filename in enumerate(mp4_files):\n",
    "            old_path = os.path.join(subdir_path, filename)\n",
    "            new_path = os.path.join(subdir_path, '{}.mp4'.format(i))\n",
    "            os.rename(old_path, new_path)"
   ]
  },
  {
   "attachments": {},
   "cell_type": "markdown",
   "metadata": {},
   "source": [
    "2. Check Video Numbers. Checks the number of videos in each folder under signed_videos\n"
   ]
  },
  {
   "cell_type": "code",
   "execution_count": 6,
   "metadata": {},
   "outputs": [
    {
     "name": "stdout",
     "output_type": "stream",
     "text": [
      "hindi: 14\n",
      "magandang umaga: 14\n",
      "ako: 14\n",
      "salamat: 14\n",
      "ikaw: 14\n",
      "hi: 14\n",
      "kamusta: 14\n",
      "oo: 14\n",
      "bakit: 14\n",
      "maganda: 14\n"
     ]
    }
   ],
   "source": [
    "import os\n",
    "\n",
    "input_dir = os.path.join('..', 'videos', 'zoomed_videos')\n",
    "\n",
    "# Loop through subdirectories\n",
    "for subdir in os.listdir(input_dir):\n",
    "    subdir_path = os.path.join(input_dir, subdir)\n",
    "    if os.path.isdir(subdir_path):\n",
    "        # Get list of mp4 files\n",
    "        mp4_files = [f for f in os.listdir(subdir_path) if f.endswith('.mp4')]\n",
    "        # Print subdirectory name and number of mp4 files\n",
    "        print(f'{subdir}: {len(mp4_files)}')\n"
   ]
  },
  {
   "attachments": {},
   "cell_type": "markdown",
   "metadata": {},
   "source": [
    "3. Arrange the files."
   ]
  },
  {
   "cell_type": "code",
   "execution_count": 3,
   "metadata": {},
   "outputs": [
    {
     "ename": "FileExistsError",
     "evalue": "[WinError 183] Cannot create a file when that file already exists: 'videos/signed_videos\\\\ako\\\\11.MOV' -> 'videos/signed_videos\\\\ako\\\\2.MOV'",
     "output_type": "error",
     "traceback": [
      "\u001b[1;31m---------------------------------------------------------------------------\u001b[0m",
      "\u001b[1;31mFileExistsError\u001b[0m                           Traceback (most recent call last)",
      "\u001b[1;32m~\\AppData\\Local\\Temp\\ipykernel_6196\\740260821.py\u001b[0m in \u001b[0;36m<module>\u001b[1;34m\u001b[0m\n\u001b[0;32m     14\u001b[0m                     \u001b[0mnew_filename\u001b[0m \u001b[1;33m=\u001b[0m \u001b[1;34mf\"{prefix_count}.MOV\"\u001b[0m\u001b[1;33m\u001b[0m\u001b[1;33m\u001b[0m\u001b[0m\n\u001b[0;32m     15\u001b[0m                     \u001b[0mprefix_count\u001b[0m \u001b[1;33m+=\u001b[0m \u001b[1;36m1\u001b[0m\u001b[1;33m\u001b[0m\u001b[1;33m\u001b[0m\u001b[0m\n\u001b[1;32m---> 16\u001b[1;33m                     \u001b[0mos\u001b[0m\u001b[1;33m.\u001b[0m\u001b[0mrename\u001b[0m\u001b[1;33m(\u001b[0m\u001b[0mos\u001b[0m\u001b[1;33m.\u001b[0m\u001b[0mpath\u001b[0m\u001b[1;33m.\u001b[0m\u001b[0mjoin\u001b[0m\u001b[1;33m(\u001b[0m\u001b[0mroot\u001b[0m\u001b[1;33m,\u001b[0m \u001b[0mprefix\u001b[0m\u001b[1;33m,\u001b[0m \u001b[0mfile\u001b[0m\u001b[1;33m)\u001b[0m\u001b[1;33m,\u001b[0m \u001b[0mos\u001b[0m\u001b[1;33m.\u001b[0m\u001b[0mpath\u001b[0m\u001b[1;33m.\u001b[0m\u001b[0mjoin\u001b[0m\u001b[1;33m(\u001b[0m\u001b[0mroot\u001b[0m\u001b[1;33m,\u001b[0m \u001b[0mprefix\u001b[0m\u001b[1;33m,\u001b[0m \u001b[0mnew_filename\u001b[0m\u001b[1;33m)\u001b[0m\u001b[1;33m)\u001b[0m\u001b[1;33m\u001b[0m\u001b[1;33m\u001b[0m\u001b[0m\n\u001b[0m",
      "\u001b[1;31mFileExistsError\u001b[0m: [WinError 183] Cannot create a file when that file already exists: 'videos/signed_videos\\\\ako\\\\11.MOV' -> 'videos/signed_videos\\\\ako\\\\2.MOV'"
     ]
    }
   ],
   "source": [
    "import os\n",
    "import shutil\n",
    "\n",
    "path = \"videos/signed_videos\"\n",
    "\n",
    "prefixes = ['ako', 'ikaw', 'maganda', 'magandang umaga', 'hi', 'hindi', 'oo', 'salamat', 'bakit', 'kamusta']\n",
    "\n",
    "for root, dirs, files in os.walk('videos/signed_videos'):\n",
    "    for prefix in prefixes:\n",
    "        if prefix in dirs:\n",
    "            prefix_count = 0\n",
    "            for file in os.listdir(os.path.join(root, prefix)):\n",
    "                if file.endswith(\".MOV\"):\n",
    "                    prefix_count += 1\n",
    "                    new_filename = f\"{prefix_count}.MOV\"\n",
    "                    os.rename(os.path.join(root, prefix, file), os.path.join(root, prefix, new_filename))"
   ]
  },
  {
   "attachments": {},
   "cell_type": "markdown",
   "metadata": {},
   "source": [
    "4. Count Frames of Video."
   ]
  },
  {
   "cell_type": "code",
   "execution_count": 1,
   "metadata": {},
   "outputs": [
    {
     "name": "stdout",
     "output_type": "stream",
     "text": [
      "30.0\n"
     ]
    }
   ],
   "source": [
    "# count the number of frames in each video\n",
    "from moviepy.video.io.VideoFileClip import VideoFileClip\n",
    "\n",
    "def get_fps(file_path):\n",
    "    clip = VideoFileClip(file_path)\n",
    "    fps = clip.fps\n",
    "    return fps\n",
    "\n",
    "def print_fps_of_all_videos_in_subdirectories(root_dir):\n",
    "    # Loop through all subdirectories under root_dir\n",
    "    for dirpath, dirnames, filenames in os.walk(root_dir):\n",
    "        # Loop through all files in the current subdirectory\n",
    "        for filename in filenames:\n",
    "            # Check if the file is a video file\n",
    "            if filename.endswith('.mp4') or filename.endswith('.mov'):\n",
    "                # Get the full path of the video file\n",
    "                video_path = os.path.join(dirpath, filename)\n",
    "\n",
    "                # Get the FPS of the video file\n",
    "                fps = get_fps(video_path)\n",
    "\n",
    "                # Print out the FPS of the video file\n",
    "                print(f'{video_path}: {fps} FPS')"
   ]
  },
  {
   "cell_type": "code",
   "execution_count": null,
   "metadata": {},
   "outputs": [],
   "source": [
    "print(get_fps('videos/signed_videos/ako/0.mp4')))\n",
    "\n",
    "# Call the function with your desired root directory\n",
    "print_fps_of_all_videos_in_subdirectories('videos/signed_videos')"
   ]
  },
  {
   "attachments": {},
   "cell_type": "markdown",
   "metadata": {},
   "source": [
    "5. Squeeze/Augment videos until they reach 30 frames."
   ]
  },
  {
   "cell_type": "code",
   "execution_count": null,
   "metadata": {},
   "outputs": [],
   "source": [
    "# This code will create a new video file called output.mp4 in your current working directory with only 30 frames. \n",
    "# If your original video has less than 30 frames, it will repeat the last frame until it reaches 30 frames. \n",
    "# If your original video has more than 30 frames, it will squeeze it down to 30 frames.\n",
    "\n",
    "import cv2\n",
    "import os\n",
    "\n",
    "def squeeze_video_to_30_frames(video_path):\n",
    "    # Open the video file\n",
    "    cap = cv2.VideoCapture(video_path)\n",
    "\n",
    "    # Get the total number of frames in the video\n",
    "    total_frames = int(cap.get(cv2.CAP_PROP_FRAME_COUNT))\n",
    "\n",
    "    # Calculate the number of frames to skip between each frame\n",
    "    skip_frames = int(total_frames / 30)\n",
    "\n",
    "    # Create a new video writer object\n",
    "    fourcc = cv2.VideoWriter_fourcc(*'mp4v')\n",
    "    out = cv2.VideoWriter('output.mp4', fourcc, 30, (640, 480))\n",
    "\n",
    "    # Loop through each frame in the video\n",
    "    for i in range(total_frames):\n",
    "        # Read the current frame\n",
    "        ret, frame = cap.read()\n",
    "\n",
    "        # If we've reached a frame that we want to keep\n",
    "        if i % skip_frames == 0:\n",
    "            # Write the frame to the output video\n",
    "            out.write(frame)\n",
    "\n",
    "        # If we've reached the end of the video\n",
    "        if i == total_frames - 1:\n",
    "            # Repeat the last frame until we have 30 frames\n",
    "            while out.get(cv2.CAP_PROP_FRAME_COUNT) < 30:\n",
    "                out.write(frame)\n",
    "\n",
    "    # Release the video capture and writer objects\n",
    "    cap.release()\n",
    "    out.release()"
   ]
  },
  {
   "cell_type": "code",
   "execution_count": null,
   "metadata": {},
   "outputs": [],
   "source": []
  },
  {
   "cell_type": "code",
   "execution_count": null,
   "metadata": {},
   "outputs": [],
   "source": [
    "# Call the function with your desired video path\n",
    "squeeze_video_to_30_frames('videos/signed_videos/sample.mov')"
   ]
  }
 ],
 "metadata": {
  "kernelspec": {
   "display_name": "fsltranslator",
   "language": "python",
   "name": "python3"
  },
  "language_info": {
   "codemirror_mode": {
    "name": "ipython",
    "version": 3
   },
   "file_extension": ".py",
   "mimetype": "text/x-python",
   "name": "python",
   "nbconvert_exporter": "python",
   "pygments_lexer": "ipython3",
   "version": "3.10.10"
  },
  "orig_nbformat": 4
 },
 "nbformat": 4,
 "nbformat_minor": 2
}
