{
 "cells": [
  {
   "attachments": {},
   "cell_type": "markdown",
   "metadata": {},
   "source": [
    "This notebook is meant for arranging the videos under the \"videos\" folder so that the video names are coherent with the program under video_training.ipynb"
   ]
  },
  {
   "cell_type": "code",
   "execution_count": null,
   "metadata": {},
   "outputs": [],
   "source": [
    "# arranges the videos in the signed_videos folder into a format that can be used by the model from 1.mp4-n.mp4, where n is the number of videos in the folder.\n",
    "\n",
    "import os \n",
    "input_dir = os.path.join('videos', 'signed_videos')\n",
    "\n",
    "# Loop through subdirectories\n",
    "for subdir in os.listdir(input_dir):\n",
    "    subdir_path = os.path.join(input_dir, subdir)\n",
    "    if os.path.isdir(subdir_path):\n",
    "        # Get list of mp4 files\n",
    "        mp4_files = [f for f in os.listdir(subdir_path) if f.endswith('.mp4')]\n",
    "        # Sort files by name \n",
    "        mp4_files.sort()\n",
    "        # Rename files\n",
    "        for i, filename in enumerate(mp4_files):\n",
    "            old_path = os.path.join(subdir_path, filename)\n",
    "            new_path = os.path.join(subdir_path, '{}.mp4'.format(i))\n",
    "            os.rename(old_path, new_path)"
   ]
  },
  {
   "cell_type": "code",
   "execution_count": null,
   "metadata": {},
   "outputs": [],
   "source": [
    "# checks the number of videos in each folder under signed_videos\n",
    "import os\n",
    "\n",
    "input_dir = os.path.join('videos', 'signed_videos')\n",
    "\n",
    "# Loop through subdirectories\n",
    "for subdir in os.listdir(input_dir):\n",
    "    subdir_path = os.path.join(input_dir, subdir)\n",
    "    if os.path.isdir(subdir_path):\n",
    "        # Get list of mp4 files\n",
    "        mp4_files = [f for f in os.listdir(subdir_path) if f.endswith('.mp4')]\n",
    "        # Print subdirectory name and number of mp4 files\n",
    "        print(f'{subdir}: {len(mp4_files)}')\n"
   ]
  }
 ],
 "metadata": {
  "kernelspec": {
   "display_name": "fsltranslator",
   "language": "python",
   "name": "python3"
  },
  "language_info": {
   "name": "python",
   "version": "3.10.10"
  },
  "orig_nbformat": 4
 },
 "nbformat": 4,
 "nbformat_minor": 2
}
