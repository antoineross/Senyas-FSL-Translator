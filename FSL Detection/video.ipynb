{
 "cells": [
  {
   "cell_type": "code",
   "execution_count": null,
   "metadata": {},
   "outputs": [],
   "source": [
    "from moviepy.video.io.VideoFileClip import VideoFileClip\n",
    "import os\n",
    "\n",
    "def flip_videos(src_folder, dest_folder):\n",
    "    for filename in os.listdir(src_folder):\n",
    "        if filename.endswith('.mp4'):\n",
    "            clip = VideoFileClip(os.path.join(src_folder, filename))\n",
    "            clip = clip.fx(vfx.mirror_x)\n",
    "            clip.write_videofile(os.path.join(dest_folder, filename))\n",
    "\n",
    "flip_videos('videos1', 'videos2')"
   ]
  }
 ],
 "metadata": {
  "language_info": {
   "name": "python"
  },
  "orig_nbformat": 4
 },
 "nbformat": 4,
 "nbformat_minor": 2
}
