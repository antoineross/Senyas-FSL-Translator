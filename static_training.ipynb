{
 "cells": [
  {
   "cell_type": "code",
   "execution_count": null,
   "metadata": {},
   "outputs": [],
   "source": [
    "from torch.utils.data import Dataset\n",
    "from torch.autograd import Variable\n",
    "import torch.nn as nn\n",
    "import numpy as np\n",
    "import torch\n",
    "\n",
    "import csv\n",
    "\n",
    "\n",
    "class SignLanguageMNIST(Dataset):\n",
    "    \"\"\"Sign Language classification dataset.\n",
    "\n",
    "    Utility for loading Sign Language dataset into PyTorch. Dataset posted on\n",
    "    Kaggle in 2017, by an unnamed author with username `tecperson`:\n",
    "    https://www.kaggle.com/datamunge/sign-language-mnist\n",
    "\n",
    "    Each sample is 1 x 1 x 28 x 28, and each label is a scalar.\n",
    "    \"\"\"\n",
    "    pass"
   ]
  }
 ],
 "metadata": {
  "language_info": {
   "name": "python"
  },
  "orig_nbformat": 4
 },
 "nbformat": 4,
 "nbformat_minor": 2
}
